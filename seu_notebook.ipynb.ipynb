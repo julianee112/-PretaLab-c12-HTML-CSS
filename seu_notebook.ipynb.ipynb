{
  "nbformat": 4,
  "nbformat_minor": 0,
  "metadata": {
    "colab": {
      "provenance": []
    },
    "kernelspec": {
      "name": "python3",
      "display_name": "Python 3"
    },
    "language_info": {
      "name": "python"
    }
  },
  "cells": [
    {
      "cell_type": "code",
      "source": [
        "# Parte 1: \"Classe\"\n",
        "class Livro:\n",
        "    def __init__(self, titulo, autor):\n",
        "        self.titulo = titulo\n",
        "        self.autor = autor\n",
        "        self.disponivel = True\n",
        "\n",
        "    def emprestar(self):\n",
        "        self.disponivel = False\n",
        "# Parte 2: \"Lista\"\n",
        "livro1 = Livro(\"Mulheres, Raça e Classe\", \"Angela Y. Davis\")\n",
        "livro2 = Livro(\"A cor Purpura\", \"1982\")\n",
        "livro3 = Livro(\"Olhos D'agua\", \"Conceição Evaristo\")\n",
        "\n",
        "biblioteca = [livro1, livro2, livro3]\n",
        "\n",
        "# Emprestar\n",
        "biblioteca[1].emprestar()\n",
        "\n",
        "# Imprimir o status de disponibilidade de todos os livros\n",
        "print(\"Status de disponibilidade dos livros:\")\n",
        "for livro in biblioteca:\n",
        "    print(f\"{livro.titulo} - Disponível: {livro.disponivel}\")\n",
        "# Parte 3: Filtro com Boolean Masking\n",
        "import numpy as np\n",
        "\n",
        "# Número de páginas\n",
        "paginas = np.array([200, 328, 96])\n",
        "titulos = np.array([livro.titulo for livro in biblioteca])\n",
        "\n",
        "# Máscara para livros com mais de 100 páginas\n",
        "mask = paginas > 100\n",
        "livros_com_mais_de_100_paginas = titulos[mask]\n",
        "\n",
        "print(\"\\nLivros com mais de 100 páginas:\")\n",
        "for titulo in livros_com_mais_de_100_paginas:\n",
        "    print(titulo)\n",
        "\n",
        "# Parte 4: Função com NumPy\n",
        "# Anos fictícios de publicação\n",
        "anos = np.array([1982, 2014, 1943])\n",
        "\n",
        "# Função para calcular a média dos anos\n",
        "def media_anos_publicacao(array_anos):\n",
        "    return np.mean(array_anos)\n",
        "\n",
        "media = media_anos_publicacao(anos)\n",
        "print(f\"\\nMédia dos anos de publicação: {media:.0f}\")\n",
        "\n"
      ],
      "metadata": {
        "colab": {
          "base_uri": "https://localhost:8080/"
        },
        "id": "ut1WNfXUHYUt",
        "outputId": "c0b3e8d1-2ecd-4795-dd5c-f39b25f3da6f"
      },
      "execution_count": 7,
      "outputs": [
        {
          "output_type": "stream",
          "name": "stdout",
          "text": [
            "Status de disponibilidade dos livros:\n",
            "Mulheres, Raça e Classe - Disponível: True\n",
            "A cor Purpura - Disponível: False\n",
            "Olhos D'agua - Disponível: True\n",
            "\n",
            "Livros com mais de 100 páginas:\n",
            "Mulheres, Raça e Classe\n",
            "A cor Purpura\n",
            "\n",
            "Média dos anos de publicação: 1980\n"
          ]
        }
      ]
    }
  ]
}